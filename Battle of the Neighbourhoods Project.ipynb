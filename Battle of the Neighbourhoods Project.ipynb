{
    "cells": [
        {
            "cell_type": "markdown",
            "metadata": {
                "collapsed": true
            },
            "source": "# Battle of the Neighbourhoods: Comparing the Largest 5 Cities in Canada"
        },
        {
            "cell_type": "markdown",
            "metadata": {},
            "source": "## Section 1: Introduction"
        },
        {
            "cell_type": "markdown",
            "metadata": {},
            "source": "### 1.1: Background Information\nCanada is a country with a population of 37.59 million People. The 5 largest cities, Toronto, Montreal, Vancouver, Calgary and Edmonton, collectively have a population of 13.5 million people. The cost of living and quality of life between those cities vary."
        },
        {
            "cell_type": "markdown",
            "metadata": {},
            "source": "### 1.2: Problem\n\nThe problem that this report will address is if there is any correlation between a city's composition and its quality of life and cost of living. An understanding of the impacts of a city's compsition to quality of life and cost of living could help city planners optimize the composition of neighbourhoods to maximize the wellbeing of their residences and manage cost of living."
        },
        {
            "cell_type": "markdown",
            "metadata": {},
            "source": "## Section 2: Data Sources"
        },
        {
            "cell_type": "markdown",
            "metadata": {},
            "source": "### 2.1: Foursquare Location Data\nFoursquare location data will be used to determine the different venues and attractions present in each of Canada's 5 largest cities. The breakdown of the venues for each city will be compared with each other on an absolute basis and per capita. For example, the number of gyms per capita in Vancouver compared to Toronto. \n\n### 2.2: Numbeo Cost of Living and Quality of Life Data\nCost of living data and quality of life will be extracted from Numbeo for the 5 cities. For example, the cost of living index for Toronto is 71.87 and the quality of life index is \nThis data will be used with the Foursquare location data to determine if there is any correlation between city composition and its cost of living, and quality of life.\n\n"
        },
        {
            "cell_type": "markdown",
            "metadata": {},
            "source": ""
        }
    ],
    "metadata": {
        "kernelspec": {
            "display_name": "Python 3.6",
            "language": "python",
            "name": "python3"
        },
        "language_info": {
            "codemirror_mode": {
                "name": "ipython",
                "version": 3
            },
            "file_extension": ".py",
            "mimetype": "text/x-python",
            "name": "python",
            "nbconvert_exporter": "python",
            "pygments_lexer": "ipython3",
            "version": "3.6.9"
        }
    },
    "nbformat": 4,
    "nbformat_minor": 1
}